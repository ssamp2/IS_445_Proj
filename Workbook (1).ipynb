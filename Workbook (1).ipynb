{
 "cells": [
  {
   "cell_type": "markdown",
   "metadata": {},
   "source": [
    "# Final Project, Part 1\n",
    "\n",
    "The purpose of this assignment is to explore the data you will use for *all parts* of your Final Project. *Please note: you will do this portion of the Final Project individually, even if you plan on working in a group for Parts 2 and 3.*\n",
    "    \n",
    "**Please see Homework Prompt in PrairieLearn interface for more details on the requirements for this assignment.**\n",
    "\n",
    "A rough outline of elements of code and write-up is shown below:"
   ]
  },
  {
   "cell_type": "code",
   "execution_count": 22,
   "metadata": {},
   "outputs": [
    {
     "data": {
      "text/html": [
       "<div>\n",
       "<style scoped>\n",
       "    .dataframe tbody tr th:only-of-type {\n",
       "        vertical-align: middle;\n",
       "    }\n",
       "\n",
       "    .dataframe tbody tr th {\n",
       "        vertical-align: top;\n",
       "    }\n",
       "\n",
       "    .dataframe thead th {\n",
       "        text-align: right;\n",
       "    }\n",
       "</style>\n",
       "<table border=\"1\" class=\"dataframe\">\n",
       "  <thead>\n",
       "    <tr style=\"text-align: right;\">\n",
       "      <th></th>\n",
       "      <th>type</th>\n",
       "      <th>id</th>\n",
       "      <th>properties.mag</th>\n",
       "      <th>properties.place</th>\n",
       "      <th>properties.time</th>\n",
       "      <th>properties.updated</th>\n",
       "      <th>properties.tz</th>\n",
       "      <th>properties.url</th>\n",
       "      <th>properties.detail</th>\n",
       "      <th>properties.felt</th>\n",
       "      <th>...</th>\n",
       "      <th>properties.types</th>\n",
       "      <th>properties.nst</th>\n",
       "      <th>properties.dmin</th>\n",
       "      <th>properties.rms</th>\n",
       "      <th>properties.gap</th>\n",
       "      <th>properties.magType</th>\n",
       "      <th>properties.type</th>\n",
       "      <th>properties.title</th>\n",
       "      <th>geometry.type</th>\n",
       "      <th>geometry.coordinates</th>\n",
       "    </tr>\n",
       "  </thead>\n",
       "  <tbody>\n",
       "    <tr>\n",
       "      <th>0</th>\n",
       "      <td>Feature</td>\n",
       "      <td>nn00897188</td>\n",
       "      <td>1.40</td>\n",
       "      <td>6 km WNW of Wadsworth, Nevada</td>\n",
       "      <td>1746315476027</td>\n",
       "      <td>1746315629162</td>\n",
       "      <td>None</td>\n",
       "      <td>https://earthquake.usgs.gov/earthquakes/eventp...</td>\n",
       "      <td>https://earthquake.usgs.gov/earthquakes/feed/v...</td>\n",
       "      <td>NaN</td>\n",
       "      <td>...</td>\n",
       "      <td>,origin,phase-data,</td>\n",
       "      <td>16.0</td>\n",
       "      <td>0.34800</td>\n",
       "      <td>0.1902</td>\n",
       "      <td>130.85</td>\n",
       "      <td>ml</td>\n",
       "      <td>earthquake</td>\n",
       "      <td>M 1.4 - 6 km WNW of Wadsworth, Nevada</td>\n",
       "      <td>Point</td>\n",
       "      <td>[-119.3563, 39.6467, 12.1]</td>\n",
       "    </tr>\n",
       "    <tr>\n",
       "      <th>1</th>\n",
       "      <td>Feature</td>\n",
       "      <td>nc75176126</td>\n",
       "      <td>1.42</td>\n",
       "      <td>5 km S of Aromas, CA</td>\n",
       "      <td>1746314360660</td>\n",
       "      <td>1746316039185</td>\n",
       "      <td>None</td>\n",
       "      <td>https://earthquake.usgs.gov/earthquakes/eventp...</td>\n",
       "      <td>https://earthquake.usgs.gov/earthquakes/feed/v...</td>\n",
       "      <td>NaN</td>\n",
       "      <td>...</td>\n",
       "      <td>,nearby-cities,origin,phase-data,scitech-link,</td>\n",
       "      <td>10.0</td>\n",
       "      <td>0.04840</td>\n",
       "      <td>0.1600</td>\n",
       "      <td>169.00</td>\n",
       "      <td>md</td>\n",
       "      <td>earthquake</td>\n",
       "      <td>M 1.4 - 5 km S of Aromas, CA</td>\n",
       "      <td>Point</td>\n",
       "      <td>[-121.63200378418, 36.8481674194336, 0.6899999...</td>\n",
       "    </tr>\n",
       "    <tr>\n",
       "      <th>2</th>\n",
       "      <td>Feature</td>\n",
       "      <td>ak0255nsv4h2</td>\n",
       "      <td>1.10</td>\n",
       "      <td>7 km E of Fox, Alaska</td>\n",
       "      <td>1746313911102</td>\n",
       "      <td>1746314018235</td>\n",
       "      <td>None</td>\n",
       "      <td>https://earthquake.usgs.gov/earthquakes/eventp...</td>\n",
       "      <td>https://earthquake.usgs.gov/earthquakes/feed/v...</td>\n",
       "      <td>NaN</td>\n",
       "      <td>...</td>\n",
       "      <td>,origin,phase-data,</td>\n",
       "      <td>NaN</td>\n",
       "      <td>NaN</td>\n",
       "      <td>0.6300</td>\n",
       "      <td>NaN</td>\n",
       "      <td>ml</td>\n",
       "      <td>earthquake</td>\n",
       "      <td>M 1.1 - 7 km E of Fox, Alaska</td>\n",
       "      <td>Point</td>\n",
       "      <td>[-147.4666, 64.9681, 0]</td>\n",
       "    </tr>\n",
       "    <tr>\n",
       "      <th>3</th>\n",
       "      <td>Feature</td>\n",
       "      <td>ak0255nstyyw</td>\n",
       "      <td>1.10</td>\n",
       "      <td>69 km NNE of Lake Minchumina, Alaska</td>\n",
       "      <td>1746313573207</td>\n",
       "      <td>1746313713885</td>\n",
       "      <td>None</td>\n",
       "      <td>https://earthquake.usgs.gov/earthquakes/eventp...</td>\n",
       "      <td>https://earthquake.usgs.gov/earthquakes/feed/v...</td>\n",
       "      <td>NaN</td>\n",
       "      <td>...</td>\n",
       "      <td>,origin,phase-data,</td>\n",
       "      <td>NaN</td>\n",
       "      <td>NaN</td>\n",
       "      <td>0.8200</td>\n",
       "      <td>NaN</td>\n",
       "      <td>ml</td>\n",
       "      <td>earthquake</td>\n",
       "      <td>M 1.1 - 69 km NNE of Lake Minchumina, Alaska</td>\n",
       "      <td>Point</td>\n",
       "      <td>[-151.8208, 64.4694, 2.3]</td>\n",
       "    </tr>\n",
       "    <tr>\n",
       "      <th>4</th>\n",
       "      <td>Feature</td>\n",
       "      <td>ak0255nstyqr</td>\n",
       "      <td>1.20</td>\n",
       "      <td>28 km S of Chickaloon, Alaska</td>\n",
       "      <td>1746313570274</td>\n",
       "      <td>1746313643518</td>\n",
       "      <td>None</td>\n",
       "      <td>https://earthquake.usgs.gov/earthquakes/eventp...</td>\n",
       "      <td>https://earthquake.usgs.gov/earthquakes/feed/v...</td>\n",
       "      <td>NaN</td>\n",
       "      <td>...</td>\n",
       "      <td>,origin,phase-data,</td>\n",
       "      <td>NaN</td>\n",
       "      <td>NaN</td>\n",
       "      <td>0.2500</td>\n",
       "      <td>NaN</td>\n",
       "      <td>ml</td>\n",
       "      <td>earthquake</td>\n",
       "      <td>M 1.2 - 28 km S of Chickaloon, Alaska</td>\n",
       "      <td>Point</td>\n",
       "      <td>[-148.3672, 61.5458, 20.9]</td>\n",
       "    </tr>\n",
       "    <tr>\n",
       "      <th>...</th>\n",
       "      <td>...</td>\n",
       "      <td>...</td>\n",
       "      <td>...</td>\n",
       "      <td>...</td>\n",
       "      <td>...</td>\n",
       "      <td>...</td>\n",
       "      <td>...</td>\n",
       "      <td>...</td>\n",
       "      <td>...</td>\n",
       "      <td>...</td>\n",
       "      <td>...</td>\n",
       "      <td>...</td>\n",
       "      <td>...</td>\n",
       "      <td>...</td>\n",
       "      <td>...</td>\n",
       "      <td>...</td>\n",
       "      <td>...</td>\n",
       "      <td>...</td>\n",
       "      <td>...</td>\n",
       "      <td>...</td>\n",
       "      <td>...</td>\n",
       "    </tr>\n",
       "    <tr>\n",
       "      <th>9960</th>\n",
       "      <td>Feature</td>\n",
       "      <td>uw62080082</td>\n",
       "      <td>0.14</td>\n",
       "      <td>16 km SSE of Carbonado, Washington</td>\n",
       "      <td>1743726468840</td>\n",
       "      <td>1744054087530</td>\n",
       "      <td>None</td>\n",
       "      <td>https://earthquake.usgs.gov/earthquakes/eventp...</td>\n",
       "      <td>https://earthquake.usgs.gov/earthquakes/feed/v...</td>\n",
       "      <td>NaN</td>\n",
       "      <td>...</td>\n",
       "      <td>,origin,phase-data,</td>\n",
       "      <td>14.0</td>\n",
       "      <td>0.03519</td>\n",
       "      <td>0.1000</td>\n",
       "      <td>118.00</td>\n",
       "      <td>ml</td>\n",
       "      <td>earthquake</td>\n",
       "      <td>M 0.1 - 16 km SSE of Carbonado, Washington</td>\n",
       "      <td>Point</td>\n",
       "      <td>[-121.93616666666667, 46.9525, 11.01]</td>\n",
       "    </tr>\n",
       "    <tr>\n",
       "      <th>9961</th>\n",
       "      <td>Feature</td>\n",
       "      <td>ak0254bgntgi</td>\n",
       "      <td>1.60</td>\n",
       "      <td>4 km W of Point MacKenzie, Alaska</td>\n",
       "      <td>1743726264844</td>\n",
       "      <td>1745438224130</td>\n",
       "      <td>None</td>\n",
       "      <td>https://earthquake.usgs.gov/earthquakes/eventp...</td>\n",
       "      <td>https://earthquake.usgs.gov/earthquakes/feed/v...</td>\n",
       "      <td>NaN</td>\n",
       "      <td>...</td>\n",
       "      <td>,origin,phase-data,</td>\n",
       "      <td>NaN</td>\n",
       "      <td>NaN</td>\n",
       "      <td>0.6000</td>\n",
       "      <td>NaN</td>\n",
       "      <td>ml</td>\n",
       "      <td>earthquake</td>\n",
       "      <td>M 1.6 - 4 km W of Point MacKenzie, Alaska</td>\n",
       "      <td>Point</td>\n",
       "      <td>[-150.0648, 61.3675, 34.4]</td>\n",
       "    </tr>\n",
       "    <tr>\n",
       "      <th>9962</th>\n",
       "      <td>Feature</td>\n",
       "      <td>av93038074</td>\n",
       "      <td>0.30</td>\n",
       "      <td>40 km N of Ivanof Bay, Alaska</td>\n",
       "      <td>1743726240490</td>\n",
       "      <td>1743829583800</td>\n",
       "      <td>None</td>\n",
       "      <td>https://earthquake.usgs.gov/earthquakes/eventp...</td>\n",
       "      <td>https://earthquake.usgs.gov/earthquakes/feed/v...</td>\n",
       "      <td>NaN</td>\n",
       "      <td>...</td>\n",
       "      <td>,origin,phase-data,</td>\n",
       "      <td>5.0</td>\n",
       "      <td>0.07080</td>\n",
       "      <td>0.2600</td>\n",
       "      <td>211.00</td>\n",
       "      <td>ml</td>\n",
       "      <td>earthquake</td>\n",
       "      <td>M 0.3 - 40 km N of Ivanof Bay, Alaska</td>\n",
       "      <td>Point</td>\n",
       "      <td>[-159.413333333333, 56.2606666666667, 3.15]</td>\n",
       "    </tr>\n",
       "    <tr>\n",
       "      <th>9963</th>\n",
       "      <td>Feature</td>\n",
       "      <td>nc75159612</td>\n",
       "      <td>0.92</td>\n",
       "      <td>5 km WSW of Cotati, CA</td>\n",
       "      <td>1743726162480</td>\n",
       "      <td>1744105935559</td>\n",
       "      <td>None</td>\n",
       "      <td>https://earthquake.usgs.gov/earthquakes/eventp...</td>\n",
       "      <td>https://earthquake.usgs.gov/earthquakes/feed/v...</td>\n",
       "      <td>NaN</td>\n",
       "      <td>...</td>\n",
       "      <td>,nearby-cities,origin,phase-data,scitech-link,</td>\n",
       "      <td>15.0</td>\n",
       "      <td>0.03208</td>\n",
       "      <td>0.1600</td>\n",
       "      <td>75.00</td>\n",
       "      <td>md</td>\n",
       "      <td>earthquake</td>\n",
       "      <td>M 0.9 - 5 km WSW of Cotati, CA</td>\n",
       "      <td>Point</td>\n",
       "      <td>[-122.760333333333, 38.3045, -0.11]</td>\n",
       "    </tr>\n",
       "    <tr>\n",
       "      <th>9964</th>\n",
       "      <td>Feature</td>\n",
       "      <td>uw62080077</td>\n",
       "      <td>2.11</td>\n",
       "      <td>8 km S of Princeton, Canada</td>\n",
       "      <td>1743726054620</td>\n",
       "      <td>1744053864650</td>\n",
       "      <td>None</td>\n",
       "      <td>https://earthquake.usgs.gov/earthquakes/eventp...</td>\n",
       "      <td>https://earthquake.usgs.gov/earthquakes/feed/v...</td>\n",
       "      <td>NaN</td>\n",
       "      <td>...</td>\n",
       "      <td>,origin,phase-data,</td>\n",
       "      <td>16.0</td>\n",
       "      <td>0.94350</td>\n",
       "      <td>0.5300</td>\n",
       "      <td>241.00</td>\n",
       "      <td>ml</td>\n",
       "      <td>explosion</td>\n",
       "      <td>M 2.1 Explosion - 8 km S of Princeton, Canada</td>\n",
       "      <td>Point</td>\n",
       "      <td>[-120.49183333333333, 49.38516666666666, -1.5]</td>\n",
       "    </tr>\n",
       "  </tbody>\n",
       "</table>\n",
       "<p>9965 rows × 30 columns</p>\n",
       "</div>"
      ],
      "text/plain": [
       "         type            id  properties.mag  \\\n",
       "0     Feature    nn00897188            1.40   \n",
       "1     Feature    nc75176126            1.42   \n",
       "2     Feature  ak0255nsv4h2            1.10   \n",
       "3     Feature  ak0255nstyyw            1.10   \n",
       "4     Feature  ak0255nstyqr            1.20   \n",
       "...       ...           ...             ...   \n",
       "9960  Feature    uw62080082            0.14   \n",
       "9961  Feature  ak0254bgntgi            1.60   \n",
       "9962  Feature    av93038074            0.30   \n",
       "9963  Feature    nc75159612            0.92   \n",
       "9964  Feature    uw62080077            2.11   \n",
       "\n",
       "                          properties.place  properties.time  \\\n",
       "0            6 km WNW of Wadsworth, Nevada    1746315476027   \n",
       "1                     5 km S of Aromas, CA    1746314360660   \n",
       "2                    7 km E of Fox, Alaska    1746313911102   \n",
       "3     69 km NNE of Lake Minchumina, Alaska    1746313573207   \n",
       "4            28 km S of Chickaloon, Alaska    1746313570274   \n",
       "...                                    ...              ...   \n",
       "9960    16 km SSE of Carbonado, Washington    1743726468840   \n",
       "9961     4 km W of Point MacKenzie, Alaska    1743726264844   \n",
       "9962         40 km N of Ivanof Bay, Alaska    1743726240490   \n",
       "9963                5 km WSW of Cotati, CA    1743726162480   \n",
       "9964           8 km S of Princeton, Canada    1743726054620   \n",
       "\n",
       "      properties.updated properties.tz  \\\n",
       "0          1746315629162          None   \n",
       "1          1746316039185          None   \n",
       "2          1746314018235          None   \n",
       "3          1746313713885          None   \n",
       "4          1746313643518          None   \n",
       "...                  ...           ...   \n",
       "9960       1744054087530          None   \n",
       "9961       1745438224130          None   \n",
       "9962       1743829583800          None   \n",
       "9963       1744105935559          None   \n",
       "9964       1744053864650          None   \n",
       "\n",
       "                                         properties.url  \\\n",
       "0     https://earthquake.usgs.gov/earthquakes/eventp...   \n",
       "1     https://earthquake.usgs.gov/earthquakes/eventp...   \n",
       "2     https://earthquake.usgs.gov/earthquakes/eventp...   \n",
       "3     https://earthquake.usgs.gov/earthquakes/eventp...   \n",
       "4     https://earthquake.usgs.gov/earthquakes/eventp...   \n",
       "...                                                 ...   \n",
       "9960  https://earthquake.usgs.gov/earthquakes/eventp...   \n",
       "9961  https://earthquake.usgs.gov/earthquakes/eventp...   \n",
       "9962  https://earthquake.usgs.gov/earthquakes/eventp...   \n",
       "9963  https://earthquake.usgs.gov/earthquakes/eventp...   \n",
       "9964  https://earthquake.usgs.gov/earthquakes/eventp...   \n",
       "\n",
       "                                      properties.detail  properties.felt  ...  \\\n",
       "0     https://earthquake.usgs.gov/earthquakes/feed/v...              NaN  ...   \n",
       "1     https://earthquake.usgs.gov/earthquakes/feed/v...              NaN  ...   \n",
       "2     https://earthquake.usgs.gov/earthquakes/feed/v...              NaN  ...   \n",
       "3     https://earthquake.usgs.gov/earthquakes/feed/v...              NaN  ...   \n",
       "4     https://earthquake.usgs.gov/earthquakes/feed/v...              NaN  ...   \n",
       "...                                                 ...              ...  ...   \n",
       "9960  https://earthquake.usgs.gov/earthquakes/feed/v...              NaN  ...   \n",
       "9961  https://earthquake.usgs.gov/earthquakes/feed/v...              NaN  ...   \n",
       "9962  https://earthquake.usgs.gov/earthquakes/feed/v...              NaN  ...   \n",
       "9963  https://earthquake.usgs.gov/earthquakes/feed/v...              NaN  ...   \n",
       "9964  https://earthquake.usgs.gov/earthquakes/feed/v...              NaN  ...   \n",
       "\n",
       "                                    properties.types  properties.nst  \\\n",
       "0                                ,origin,phase-data,            16.0   \n",
       "1     ,nearby-cities,origin,phase-data,scitech-link,            10.0   \n",
       "2                                ,origin,phase-data,             NaN   \n",
       "3                                ,origin,phase-data,             NaN   \n",
       "4                                ,origin,phase-data,             NaN   \n",
       "...                                              ...             ...   \n",
       "9960                             ,origin,phase-data,            14.0   \n",
       "9961                             ,origin,phase-data,             NaN   \n",
       "9962                             ,origin,phase-data,             5.0   \n",
       "9963  ,nearby-cities,origin,phase-data,scitech-link,            15.0   \n",
       "9964                             ,origin,phase-data,            16.0   \n",
       "\n",
       "     properties.dmin properties.rms  properties.gap  properties.magType  \\\n",
       "0            0.34800         0.1902          130.85                  ml   \n",
       "1            0.04840         0.1600          169.00                  md   \n",
       "2                NaN         0.6300             NaN                  ml   \n",
       "3                NaN         0.8200             NaN                  ml   \n",
       "4                NaN         0.2500             NaN                  ml   \n",
       "...              ...            ...             ...                 ...   \n",
       "9960         0.03519         0.1000          118.00                  ml   \n",
       "9961             NaN         0.6000             NaN                  ml   \n",
       "9962         0.07080         0.2600          211.00                  ml   \n",
       "9963         0.03208         0.1600           75.00                  md   \n",
       "9964         0.94350         0.5300          241.00                  ml   \n",
       "\n",
       "     properties.type                               properties.title  \\\n",
       "0         earthquake          M 1.4 - 6 km WNW of Wadsworth, Nevada   \n",
       "1         earthquake                   M 1.4 - 5 km S of Aromas, CA   \n",
       "2         earthquake                  M 1.1 - 7 km E of Fox, Alaska   \n",
       "3         earthquake   M 1.1 - 69 km NNE of Lake Minchumina, Alaska   \n",
       "4         earthquake          M 1.2 - 28 km S of Chickaloon, Alaska   \n",
       "...              ...                                            ...   \n",
       "9960      earthquake     M 0.1 - 16 km SSE of Carbonado, Washington   \n",
       "9961      earthquake      M 1.6 - 4 km W of Point MacKenzie, Alaska   \n",
       "9962      earthquake          M 0.3 - 40 km N of Ivanof Bay, Alaska   \n",
       "9963      earthquake                 M 0.9 - 5 km WSW of Cotati, CA   \n",
       "9964       explosion  M 2.1 Explosion - 8 km S of Princeton, Canada   \n",
       "\n",
       "     geometry.type                               geometry.coordinates  \n",
       "0            Point                         [-119.3563, 39.6467, 12.1]  \n",
       "1            Point  [-121.63200378418, 36.8481674194336, 0.6899999...  \n",
       "2            Point                            [-147.4666, 64.9681, 0]  \n",
       "3            Point                          [-151.8208, 64.4694, 2.3]  \n",
       "4            Point                         [-148.3672, 61.5458, 20.9]  \n",
       "...            ...                                                ...  \n",
       "9960         Point              [-121.93616666666667, 46.9525, 11.01]  \n",
       "9961         Point                         [-150.0648, 61.3675, 34.4]  \n",
       "9962         Point        [-159.413333333333, 56.2606666666667, 3.15]  \n",
       "9963         Point                [-122.760333333333, 38.3045, -0.11]  \n",
       "9964         Point     [-120.49183333333333, 49.38516666666666, -1.5]  \n",
       "\n",
       "[9965 rows x 30 columns]"
      ]
     },
     "execution_count": 22,
     "metadata": {},
     "output_type": "execute_result"
    }
   ],
   "source": [
    "import pandas as pd\n",
    "import requests\n",
    "\n",
    "url = \"https://earthquake.usgs.gov/earthquakes/feed/v1.0/summary/all_month.geojson\"\n",
    "data = requests.get(url).json()\n",
    "\n",
    "df = pd.json_normalize(data[\"features\"])\n",
    "\n",
    "df"
   ]
  },
  {
   "cell_type": "code",
   "execution_count": 23,
   "metadata": {},
   "outputs": [
    {
     "name": "stdout",
     "output_type": "stream",
     "text": [
      "Number of rows: 9965\n",
      "Memory usage: 13.13 MB\n"
     ]
    }
   ],
   "source": [
    "print(f\"Number of rows: {len(df)}\")\n",
    "print(f\"Memory usage: {df.memory_usage(deep=True).sum() / (1024 * 1024):.2f} MB\")"
   ]
  },
  {
   "cell_type": "markdown",
   "metadata": {},
   "source": [
    "## Dataset information\n",
    "\n",
    "* What is the \"name\" of the dataset?\n",
    "* Where did you obtain it?\n",
    "* Where can we obtain it? (i.e., URL)\n",
    "* What is the license of the dataset? What are we allowed to do with it?  This information is generally found in an \"About\" page or in documentation.  If there is no explicit license, use what you find in the dataset documentation to make your \"best guess\".\n",
    "* How big is it in file size and in items?  Looking ahead, [how does this relate to GitHub's limits on uploading large files](https://docs.github.com/en/repositories/working-with-files/managing-large-files/about-large-files-on-github)?  If you plan on hosting the data yourself and it is larger than GitHub's limits, state your plan for how you will address this issue.  (Note: your plan might change a little bit from what you propose here and that is ok!)\n",
    "* Make a simple plot showing a relationship of interest. You can use matplotlib or pandas (or other). Don't worry about colors, labels or anything else of that nature!  Include a few sentences about what your plot is aiming to show and why it is interesting.\n"
   ]
  },
  {
   "cell_type": "markdown",
   "metadata": {},
   "source": [
    "The name of the dataset I chose was  USGS Earthquake Data - “All Earthquakes, Past 30 Days.” I obatined it from U.S. Geological Survey (USGS) Earthquake Hazards Program. The link to this dataset is as follows https://earthquake.usgs.gov/earthquakes/feed/v1.0/summary/all_week.geojson. This dataset is located in the public domain as it data is coming from the United States Geological survey. The copyright policy states that most of the data may be used without restriction, but proper attribution is encourgaed. The dataset currently has 10,000 rows and 30 columns. When loading the dataset into a pandas dataframe, it takes up around 13.17 MB of data. Because this is real time data, the memeory usage will vary slightly. The GitHub limit for uploading large files is around 100 MB per file and we are underneath that so, it should not be a problem. Either I will directly take the real time data from the website (URL) or store a recent subset of the data in the repository in regards to filze size, items, and GitHub. "
   ]
  },
  {
   "cell_type": "code",
   "execution_count": 24,
   "metadata": {},
   "outputs": [
    {
     "data": {
      "text/plain": [
       "type                     object\n",
       "id                       object\n",
       "properties.mag          float64\n",
       "properties.place         object\n",
       "properties.time           int64\n",
       "properties.updated        int64\n",
       "properties.tz            object\n",
       "properties.url           object\n",
       "properties.detail        object\n",
       "properties.felt         float64\n",
       "properties.cdi          float64\n",
       "properties.mmi          float64\n",
       "properties.alert         object\n",
       "properties.status        object\n",
       "properties.tsunami        int64\n",
       "properties.sig            int64\n",
       "properties.net           object\n",
       "properties.code          object\n",
       "properties.ids           object\n",
       "properties.sources       object\n",
       "properties.types         object\n",
       "properties.nst          float64\n",
       "properties.dmin         float64\n",
       "properties.rms          float64\n",
       "properties.gap          float64\n",
       "properties.magType       object\n",
       "properties.type          object\n",
       "properties.title         object\n",
       "geometry.type            object\n",
       "geometry.coordinates     object\n",
       "dtype: object"
      ]
     },
     "execution_count": 24,
     "metadata": {},
     "output_type": "execute_result"
    }
   ],
   "source": [
    "df.dtypes"
   ]
  },
  {
   "cell_type": "code",
   "execution_count": 25,
   "metadata": {},
   "outputs": [
    {
     "data": {
      "image/png": "[encoded data removed]",
      "text/plain": [
       "<Figure size 720x360 with 1 Axes>"
      ]
     },
     "metadata": {
      "needs_background": "light"
     },
     "output_type": "display_data"
    }
   ],
   "source": [
    "import matplotlib.pyplot as plt\n",
    "\n",
    "df['time'] = pd.to_datetime(df['properties.time'], unit='ms')\n",
    "df['date'] = df['time'].dt.date\n",
    "daily_counts = df.groupby('date').size()\n",
    "\n",
    "plt.figure(figsize=(10, 5))\n",
    "daily_counts.plot(kind='line', marker='o')\n",
    "plt.title('Number of Earthquakes per Day')\n",
    "plt.xlabel('Date')\n",
    "plt.ylabel('Count')\n",
    "plt.tight_layout()\n",
    "plt.show()"
   ]
  },
  {
   "cell_type": "markdown",
   "metadata": {},
   "source": [
    "I looked at the relationship between date and number of earthquakes. This plot is aiming to show how the total number of earthquakes changes as the time goes on. This is an intresting plot because it is showing that as the dates go on the number of earthquakesappear to decreasi in general over the past month of April. "
   ]
  },
  {
   "cell_type": "markdown",
   "metadata": {},
   "source": [
    "## Data exploration and Plot\n",
    "\n",
    "Explore the dataset in the Workspace. Make sure you include things that did and did not work (be sure to comment out things that don't work). "
   ]
  },
  {
   "cell_type": "code",
   "execution_count": 26,
   "metadata": {},
   "outputs": [
    {
     "data": {
      "text/plain": [
       "Index(['type', 'id', 'properties.mag', 'properties.place', 'properties.time',\n",
       "       'properties.updated', 'properties.tz', 'properties.url',\n",
       "       'properties.detail', 'properties.felt', 'properties.cdi',\n",
       "       'properties.mmi', 'properties.alert', 'properties.status',\n",
       "       'properties.tsunami', 'properties.sig', 'properties.net',\n",
       "       'properties.code', 'properties.ids', 'properties.sources',\n",
       "       'properties.types', 'properties.nst', 'properties.dmin',\n",
       "       'properties.rms', 'properties.gap', 'properties.magType',\n",
       "       'properties.type', 'properties.title', 'geometry.type',\n",
       "       'geometry.coordinates', 'time', 'date'],\n",
       "      dtype='object')"
      ]
     },
     "execution_count": 26,
     "metadata": {},
     "output_type": "execute_result"
    }
   ],
   "source": [
    "df.columns"
   ]
  },
  {
   "cell_type": "code",
   "execution_count": 27,
   "metadata": {},
   "outputs": [
    {
     "name": "stdout",
     "output_type": "stream",
     "text": [
      "<class 'pandas.core.frame.DataFrame'>\n",
      "RangeIndex: 9965 entries, 0 to 9964\n",
      "Data columns (total 32 columns):\n",
      " #   Column                Non-Null Count  Dtype         \n",
      "---  ------                --------------  -----         \n",
      " 0   type                  9965 non-null   object        \n",
      " 1   id                    9965 non-null   object        \n",
      " 2   properties.mag        9965 non-null   float64       \n",
      " 3   properties.place      9965 non-null   object        \n",
      " 4   properties.time       9965 non-null   int64         \n",
      " 5   properties.updated    9965 non-null   int64         \n",
      " 6   properties.tz         0 non-null      object        \n",
      " 7   properties.url        9965 non-null   object        \n",
      " 8   properties.detail     9965 non-null   object        \n",
      " 9   properties.felt       683 non-null    float64       \n",
      " 10  properties.cdi        683 non-null    float64       \n",
      " 11  properties.mmi        130 non-null    float64       \n",
      " 12  properties.alert      65 non-null     object        \n",
      " 13  properties.status     9965 non-null   object        \n",
      " 14  properties.tsunami    9965 non-null   int64         \n",
      " 15  properties.sig        9965 non-null   int64         \n",
      " 16  properties.net        9965 non-null   object        \n",
      " 17  properties.code       9965 non-null   object        \n",
      " 18  properties.ids        9965 non-null   object        \n",
      " 19  properties.sources    9965 non-null   object        \n",
      " 20  properties.types      9965 non-null   object        \n",
      " 21  properties.nst        8516 non-null   float64       \n",
      " 22  properties.dmin       8509 non-null   float64       \n",
      " 23  properties.rms        9965 non-null   float64       \n",
      " 24  properties.gap        8516 non-null   float64       \n",
      " 25  properties.magType    9965 non-null   object        \n",
      " 26  properties.type       9965 non-null   object        \n",
      " 27  properties.title      9965 non-null   object        \n",
      " 28  geometry.type         9965 non-null   object        \n",
      " 29  geometry.coordinates  9965 non-null   object        \n",
      " 30  time                  9965 non-null   datetime64[ns]\n",
      " 31  date                  9965 non-null   object        \n",
      "dtypes: datetime64[ns](1), float64(8), int64(4), object(19)\n",
      "memory usage: 2.4+ MB\n"
     ]
    },
    {
     "data": {
      "text/plain": [
       "8 km NNW of The Geysers, CA      152\n",
       "7 km NW of The Geysers, CA       124\n",
       "7 km WNW of Cobb, CA              88\n",
       "8 km WNW of Cobb, CA              81\n",
       "7 km NNW of The Geysers, CA       80\n",
       "16 km WSW of Johannesburg, CA     78\n",
       "3 km NW of The Geysers, CA        75\n",
       "6 km WNW of Cobb, CA              70\n",
       "2 km NNW of The Geysers, CA       65\n",
       "16 km W of Johannesburg, CA       53\n",
       "Name: properties.place, dtype: int64"
      ]
     },
     "execution_count": 27,
     "metadata": {},
     "output_type": "execute_result"
    }
   ],
   "source": [
    "# summary of dataframe \n",
    "df.info()\n",
    "#summary stats \n",
    "df.describe()\n",
    "#how many times each magnitude is in dataset, but too many different values \n",
    "df['properties.mag'].value_counts().sort_index()\n",
    "#give me the top 10 places where earthquake most commonly occur  \n",
    "df['properties.place'].value_counts().head(10)"
   ]
  },
  {
   "cell_type": "code",
   "execution_count": 28,
   "metadata": {},
   "outputs": [
    {
     "data": {
      "text/plain": [
       "<AxesSubplot:>"
      ]
     },
     "execution_count": 28,
     "metadata": {},
     "output_type": "execute_result"
    },
    {
     "data": {
      "image/png": "[encoded data removed]",
      "text/plain": [
       "<Figure size 432x288 with 1 Axes>"
      ]
     },
     "metadata": {
      "needs_background": "light"
     },
     "output_type": "display_data"
    }
   ],
   "source": [
    "# \n",
    "df['properties.mag'].hist(bins=30)"
   ]
  },
  {
   "cell_type": "code",
   "execution_count": 29,
   "metadata": {},
   "outputs": [
    {
     "data": {
      "image/png": "[encoded data removed]",
      "text/plain": [
       "<Figure size 720x432 with 1 Axes>"
      ]
     },
     "metadata": {
      "needs_background": "light"
     },
     "output_type": "display_data"
    }
   ],
   "source": [
    "import matplotlib.pyplot as plt\n",
    "\n",
    "# gives me the longitude by giving the first value and apply to every row (lambda)\n",
    "df['longitude'] = df['geometry.coordinates'].apply(lambda x: x[0])\n",
    "# gives me the latitude by giving the second value and apply to every row (lambda)\n",
    "df['latitude'] = df['geometry.coordinates'].apply(lambda x: x[1])\n",
    "\n",
    "plt.figure(figsize=(10, 6))\n",
    "plt.scatter(df['longitude'], df['latitude'], alpha=0.3, s=10)\n",
    "plt.title('Earthquake Locations')\n",
    "plt.xlabel('Longitude')\n",
    "plt.ylabel('Latitude')\n",
    "plt.grid(True)\n",
    "plt.show()\n"
   ]
  },
  {
   "cell_type": "code",
   "execution_count": 30,
   "metadata": {},
   "outputs": [
    {
     "data": {
      "image/png": "[encoded data removed]",
      "text/plain": [
       "<Figure size 720x432 with 1 Axes>"
      ]
     },
     "metadata": {
      "needs_background": "light"
     },
     "output_type": "display_data"
    }
   ],
   "source": [
    "#count the places that the earthquake is occuring in \n",
    "top_places = df['properties.place'].value_counts().head(10)\n",
    "\n",
    "plt.figure(figsize=(10, 6))\n",
    "top_places.plot(kind='barh')\n",
    "plt.title('Top 10 Regions with Most Earthquakes')\n",
    "plt.xlabel('Number of Earthquakes')\n",
    "plt.gca().invert_yaxis()\n",
    "plt.show()\n"
   ]
  },
  {
   "cell_type": "code",
   "execution_count": 31,
   "metadata": {},
   "outputs": [],
   "source": [
    "\n",
    "#depth and magnitude plot is not working - have to clean depth data to get this working\n",
    "#if extract it from the attribute, shoudld work\n",
    "#df.plot.scatter(x='properties.mag', y='geometry.coordinates', alpha=0.5)  \n"
   ]
  },
  {
   "cell_type": "code",
   "execution_count": 32,
   "metadata": {},
   "outputs": [
    {
     "data": {
      "text/plain": [
       "<AxesSubplot:>"
      ]
     },
     "execution_count": 32,
     "metadata": {},
     "output_type": "execute_result"
    },
    {
     "data": {
      "image/png": "[encoded data removed]",
      "text/plain": [
       "<Figure size 432x288 with 1 Axes>"
      ]
     },
     "metadata": {
      "needs_background": "light"
     },
     "output_type": "display_data"
    }
   ],
   "source": [
    "df['properties.magType'].value_counts().plot(kind='bar') \n"
   ]
  },
  {
   "cell_type": "code",
   "execution_count": 33,
   "metadata": {},
   "outputs": [
    {
     "name": "stdout",
     "output_type": "stream",
     "text": [
      "Number of columns: 34\n",
      "Index(['type', 'id', 'properties.mag', 'properties.place', 'properties.time',\n",
      "       'properties.updated', 'properties.tz', 'properties.url',\n",
      "       'properties.detail', 'properties.felt', 'properties.cdi',\n",
      "       'properties.mmi', 'properties.alert', 'properties.status',\n",
      "       'properties.tsunami', 'properties.sig', 'properties.net',\n",
      "       'properties.code', 'properties.ids', 'properties.sources',\n",
      "       'properties.types', 'properties.nst', 'properties.dmin',\n",
      "       'properties.rms', 'properties.gap', 'properties.magType',\n",
      "       'properties.type', 'properties.title', 'geometry.type',\n",
      "       'geometry.coordinates', 'time', 'date', 'longitude', 'latitude'],\n",
      "      dtype='object')\n"
     ]
    }
   ],
   "source": [
    "print(f\"Number of columns: {len(df.columns)}\")\n",
    "print(df.columns)\n"
   ]
  },
  {
   "cell_type": "markdown",
   "metadata": {},
   "source": [
    "## Plot Summary\n",
    "\n",
    "Summarize the characteristics of the dataset in words: what does it represent, what are the fields/columns/rows, what data types are they, etc."
   ]
  },
  {
   "cell_type": "markdown",
   "metadata": {},
   "source": [
    "Originally there were 30 columns in my dataset. However, as I split dates-times, longitudes-latitudes, etc. I ended up with 35 columns in my dataset. By looking at the data and column names, it is evident that this dataset is about the characteristics of eqarthquakes. It is about capturing all of the evidence that a earthquake happened globally. Some of the columns that seem relevant are properties.mag, which is the maginutude of the earthquake and its a float type. properties.place is also important because it shows the location where the earthquake took place and the type is a string. properties.time (the actual time the earthquake took place) and properties.updated (the time when the record was last updated by USGS) are time stamps for the earthquake and are of integer types. geometry.coordinates, latitude, and longitude look at the exactness of the location of the earthquake in regards to geography. properties.magType is the scale that is used to see on what scale the earthquake was measured on. "
   ]
  },
  {
   "cell_type": "markdown",
   "metadata": {},
   "source": [
    "The dataset contains 9,979 records on earthquakes with 34 columns. The data types are diverse and range from float64, int64, object, to datetime64. Most columns do not have many missing values. However, some do such as properties.felt, cdi, and mmi. This shows that their is data that was not collected for certain eqarthquakes. By counting how many times properties.place occured in the dataset, it is evident that the highest number of earthquakes are occuring in The Geysers, CA and Cobb, CA with around 150 and 80 events that occur. These two counties in CA are the ones that have seismic activity occuring at a higher frequency. "
   ]
  },
  {
   "cell_type": "markdown",
   "metadata": {},
   "source": [
    "By making a histogram with the magnitudes of the earthqaukes, it can be seen that most earthqaukes occur between the range of 0 and 2. The most frequent  magnitudes of earthquakes occuring around 1.2 as seen by the right skew of the chart. The spread of the data is in the range of just underneath 0 to near 6. The outliers are near the higher side showing that most earthqaukes are not too drastic, and if they are it's rare. The second chart is showing geographic locations of earthquakes and this is determined by plotting the latitude and longitude of the various earthquakes. By looking at the data, it becomes evident that the earthquakes happen all around the globe. It seems that near the tectonic plates more earthquakes occur. The west coast around Americas, Japan, and Southeast Asia have earthqauke activity. It can be seen from the third chart that 8 km NNW of The Geysers, CA has the highest amount of earthquakes that occur and its aroudn 150 earthquakes. It's also evident that most of the freuqnet occuring regions of earthquakes is Geysers, CA and Cobb, CA. It's evident that most earthquakes occur in California. The last chart is a bar chart that is looking into the frequency of earthquakes in regards to their magnitude type. To go over some of the different types ml is a local magnitude, md is duration magnitude, and mb is body wave magnitude. By looking at the bar chart it is evident that ml is the most common type of magnitude because it has 6,000 occurrences."
   ]
  },
  {
   "cell_type": "code",
   "execution_count": null,
   "metadata": {},
   "outputs": [],
   "source": []
  }
 ],
 "metadata": {
  "kernelspec": {
   "display_name": "Python 3",
   "language": "python",
   "name": "python3"
  },
  "language_info": {
   "codemirror_mode": {
    "name": "ipython",
    "version": 3
   },
   "file_extension": ".py",
   "mimetype": "text/x-python",
   "name": "python",
   "nbconvert_exporter": "python",
   "pygments_lexer": "ipython3",
   "version": "3.8.6"
  }
 },
 "nbformat": 4,
 "nbformat_minor": 4
}
